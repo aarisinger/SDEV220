{
 "cells": [
  {
   "cell_type": "code",
   "execution_count": 6,
   "id": "86d53109-8a0b-4799-b6a8-841d35441eea",
   "metadata": {},
   "outputs": [
    {
     "name": "stdin",
     "output_type": "stream",
     "text": [
      "Please enter the student's last name: \n",
      "To quit, please enter 'ZZZ' Smith\n",
      "Please enter the student's first name:  Joan\n",
      "Please enter the student's GPA:  3.5\n"
     ]
    },
    {
     "name": "stdout",
     "output_type": "stream",
     "text": [
      "Congratulations, Joan Smith has made the Dean's List.\n"
     ]
    },
    {
     "name": "stdin",
     "output_type": "stream",
     "text": [
      "Please enter the student's last name: \n",
      "To quit, please enter 'ZZZ' Jones\n",
      "Please enter the student's first name:  Sara\n",
      "Please enter the student's GPA:  3.25\n"
     ]
    },
    {
     "name": "stdout",
     "output_type": "stream",
     "text": [
      "Congratulations, Sara Jones has made the Honor Roll.\n"
     ]
    },
    {
     "name": "stdin",
     "output_type": "stream",
     "text": [
      "Please enter the student's last name: \n",
      "To quit, please enter 'ZZZ' Anderson\n",
      "Please enter the student's first name:  Mary\n",
      "Please enter the student's GPA:  4.0\n"
     ]
    },
    {
     "name": "stdout",
     "output_type": "stream",
     "text": [
      "Congratulations, Mary Anderson has made the Dean's List.\n"
     ]
    },
    {
     "name": "stdin",
     "output_type": "stream",
     "text": [
      "Please enter the student's last name: \n",
      "To quit, please enter 'ZZZ' Collins\n",
      "Please enter the student's first name:  Ella\n",
      "Please enter the student's GPA:  3.2\n",
      "Please enter the student's last name: \n",
      "To quit, please enter 'ZZZ' ZZZ\n"
     ]
    }
   ],
   "source": [
    "#Ashley Risinger\n",
    "#Module 2 Lab Case Study\n",
    "#Accept input of student names and GPAs to determine if the student qualifies  for the Dean's list or the Honor Roll.\n",
    "\n",
    "while True:\n",
    "    lastName = str(input(\"Please enter the student's last name: \\nTo quit, please enter 'ZZZ'\"))\n",
    "    if lastName == 'ZZZ':\n",
    "        break\n",
    "    else:\n",
    "        firstName = str(input(\"Please enter the student's first name: \"))\n",
    "        GPA = float(input(\"Please enter the student's GPA: \"))\n",
    "        if GPA >= 3.5:\n",
    "            print(f\"Congratulations, {firstName} {lastName} has made the Dean's List.\")\n",
    "        elif GPA >= 3.25 and GPA < 3.5:\n",
    "            print(f\"Congratulations, {firstName} {lastName} has made the Honor Roll.\")"
   ]
  },
  {
   "cell_type": "code",
   "execution_count": null,
   "id": "3e7e08b8-e267-45e5-b740-c60754907c79",
   "metadata": {},
   "outputs": [],
   "source": []
  }
 ],
 "metadata": {
  "kernelspec": {
   "display_name": "Python [conda env:base] *",
   "language": "python",
   "name": "conda-base-py"
  },
  "language_info": {
   "codemirror_mode": {
    "name": "ipython",
    "version": 3
   },
   "file_extension": ".py",
   "mimetype": "text/x-python",
   "name": "python",
   "nbconvert_exporter": "python",
   "pygments_lexer": "ipython3",
   "version": "3.13.5"
  }
 },
 "nbformat": 4,
 "nbformat_minor": 5
}
