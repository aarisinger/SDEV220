{
 "cells": [
  {
   "cell_type": "code",
   "execution_count": 3,
   "id": "bc334c65-f2b1-4553-854c-84516771024e",
   "metadata": {},
   "outputs": [
    {
     "name": "stdout",
     "output_type": "stream",
     "text": [
      "2025-10-05\n",
      "<class 'datetime.date'>\n"
     ]
    }
   ],
   "source": [
    "'''\n",
    "In your textbook, navigate to the end of Chapters 11 and 16 to the section titled \"Things to Do\"\n",
    "Complete the following sections in your Jupyter Notebook:\n",
    "13.1: Write the current date as a string to the text file today.txt\n",
    "13.2  Read the text file today.txt into the string today_string\n",
    "13.3  Parse the date from today_string\n",
    "'''\n",
    "from datetime import datetime\n",
    "\n",
    "current_date = datetime.today()\n",
    "date_string = current_date.strftime('%Y-%m-%d')\n",
    "with open('today.txt', 'w') as file:\n",
    "    file.write(date_string)\n",
    "\n",
    "with open('today.txt', 'r') as file:\n",
    "    today_string = file.read()\n",
    "\n",
    "parsed_date = datetime.strptime(today_string, '%Y-%m-%d').date()\n",
    "\n"
   ]
  },
  {
   "cell_type": "code",
   "execution_count": 5,
   "id": "8911e4c7-27c7-454b-8a52-a787a670596e",
   "metadata": {},
   "outputs": [],
   "source": [
    "'''\n",
    "15.1  Use multiprocessing to create three separate processes. Make each one wait a random number of seconds between zero and one,\n",
    "      print the current time, and then exit\n",
    "'''\n",
    "\n",
    "import multiprocessing\n",
    "import time\n",
    "import random\n",
    "from datetime import datetime\n",
    "\n",
    "def wait_and_print():\n",
    "    delay = random.uniform(0,1)\n",
    "    time.sleep(delay)\n",
    "    now = datetime.now().strftime('%H:%M:%S.%f')[:-3]\n",
    "    print(f'Process PID={multiprocessing.current_process().pid} - Time: {now} (slept {delay:.3f}s)')\n",
    "\n",
    "if __name__ == '__main__':\n",
    "    processes = []\n",
    "\n",
    "    for _ in range(3):\n",
    "        proc = multiprocessing.Process(target=wait_and_print)\n",
    "        processes.append(proc)\n",
    "        proc.start()\n",
    "\n",
    "    for proc in processes:\n",
    "        proc.join()\n"
   ]
  },
  {
   "cell_type": "code",
   "execution_count": null,
   "id": "c9e7ff86-3207-46d8-9b8b-ad0dc150408e",
   "metadata": {},
   "outputs": [],
   "source": []
  }
 ],
 "metadata": {
  "kernelspec": {
   "display_name": "Python [conda env:base] *",
   "language": "python",
   "name": "conda-base-py"
  },
  "language_info": {
   "codemirror_mode": {
    "name": "ipython",
    "version": 3
   },
   "file_extension": ".py",
   "mimetype": "text/x-python",
   "name": "python",
   "nbconvert_exporter": "python",
   "pygments_lexer": "ipython3",
   "version": "3.13.5"
  }
 },
 "nbformat": 4,
 "nbformat_minor": 5
}
