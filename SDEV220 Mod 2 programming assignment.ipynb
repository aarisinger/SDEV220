{
 "cells": [
  {
   "cell_type": "code",
   "execution_count": 3,
   "id": "bed2b69e-09b0-4d06-a913-69fe651e06e4",
   "metadata": {},
   "outputs": [
    {
     "name": "stdout",
     "output_type": "stream",
     "text": [
      "just right\n"
     ]
    }
   ],
   "source": [
    "#SDEV 220 Exercise 4.1\n",
    "\n",
    "#choose a number between 1 and 10 and assign it to the variable \"secret\"\n",
    "#then, select another number between 1 and 10 and assign it to the variable \"guess\"\n",
    "#next, write conditional tests (if, else, and elif) to print the string 'too low' if guess is less than secret\n",
    "#'too high' if guess is less than secret, and 'just right' if guess is equal to secret\n",
    "\n",
    "secret = 4\n",
    "guess = 4\n",
    "\n",
    "if secret > guess:\n",
    "    print(\"too low\")\n",
    "\n",
    "elif secret < guess:\n",
    "    print(\"too high\")\n",
    "\n",
    "else:\n",
    "    print(\"just right\")"
   ]
  },
  {
   "cell_type": "code",
   "execution_count": 6,
   "id": "ef0f06d7-8594-43bc-85c2-76f7486b7a62",
   "metadata": {},
   "outputs": [
    {
     "name": "stdout",
     "output_type": "stream",
     "text": [
      "It's a watermelon!\n"
     ]
    }
   ],
   "source": [
    "#SDEV 220 Exercise 4.2\n",
    "\n",
    "#assign True or False to the variables small and green\n",
    "#write some if/else statements to print which of these matches those choices: cherry, pea, watermelon, pumpkin\n",
    "\n",
    "small = False\n",
    "green = True \n",
    "if small:\n",
    "    if green:\n",
    "        print(\"It's a pea!\")\n",
    "    else:\n",
    "        print(\"It's a cherry!\")\n",
    "else:\n",
    "    if green:\n",
    "        print(\"It's a watermelon!\")\n",
    "    else:\n",
    "        print(\"It's a pumpkin!\")\n",
    "\n"
   ]
  },
  {
   "cell_type": "code",
   "execution_count": 4,
   "id": "d0f5a94e-763f-4eb0-8239-d68e520495a4",
   "metadata": {},
   "outputs": [
    {
     "name": "stdout",
     "output_type": "stream",
     "text": [
      "3\n",
      "2\n",
      "1\n",
      "0\n"
     ]
    }
   ],
   "source": [
    "#SDEV 220 Exercise 6.1\n",
    "\n",
    "#Use a for loop to print the values of the list (3, 2, 1, 0)\n",
    "\n",
    "for x in range(3,-1,-1):\n",
    "    print(x)"
   ]
  },
  {
   "cell_type": "code",
   "execution_count": 9,
   "id": "5a2cc4d6-336c-43c4-ba5c-a94d5c77a597",
   "metadata": {},
   "outputs": [
    {
     "name": "stdout",
     "output_type": "stream",
     "text": [
      "0\n",
      "too low\n",
      "1\n",
      "too low\n",
      "2\n",
      "too low\n",
      "3\n",
      "too low\n",
      "4\n",
      "too low\n",
      "5\n",
      "too low\n",
      "6\n",
      "too low\n",
      "7\n",
      "found it!\n"
     ]
    }
   ],
   "source": [
    "#SDEV 220 Exercise 6.2\n",
    "\n",
    "#Assign the value 7 to the variable guess_me, and the value 1 to the variable number\n",
    "#Write a while loop that compares number with guess_me\n",
    "#Print 'too low' if number is less than guess me\n",
    "#If number equals guess_me, print 'found it!' and then exit the loop\n",
    "#If number is greater than guess_me, print 'oops' and then exit the loop\n",
    "#Increment number at the end of the loop\n",
    "\n",
    "guess_me = 7\n",
    "var_num = 0\n",
    "\n",
    "while var_num < guess_me:\n",
    "    print(var_num)\n",
    "    print(\"too low\")\n",
    "    var_num += 1\n",
    "    if var_num == guess_me:\n",
    "        print(var_num)\n",
    "        print(\"found it!\")\n",
    "        break\n",
    "    if var_num > guess_me:\n",
    "        print(var_num)\n",
    "        print(\"oops\")\n",
    "        break\n"
   ]
  },
  {
   "cell_type": "code",
   "execution_count": 14,
   "id": "5e5add1f-dc5e-4918-9669-9961861c1d58",
   "metadata": {},
   "outputs": [
    {
     "name": "stdout",
     "output_type": "stream",
     "text": [
      "0\n",
      "too low\n",
      "1\n",
      "too low\n",
      "2\n",
      "too low\n",
      "3\n",
      "too low\n",
      "4\n",
      "too low\n",
      "5\n",
      "found it!\n"
     ]
    }
   ],
   "source": [
    "#SDEV220 Exercise 6.3\n",
    "\n",
    "#Assign the value 5 to the variable guess_me. \n",
    "#Use a for loop to iterate a variable called number over range(10)\n",
    "#If number is less than guess_me, print 'too low'\n",
    "#If it equals guess_me, print found it! and then break out of the for loop\n",
    "#If number is greater than guess_me, print 'oops' and then exit the loop\n",
    "\n",
    "guess_me = 5\n",
    "\n",
    "for number in range(0,10):\n",
    "    if number < guess_me:\n",
    "        print(number)\n",
    "        print(\"too low\")\n",
    "    if number == guess_me:\n",
    "        print(number)\n",
    "        print(\"found it!\")\n",
    "        break\n",
    "    if number > guess_me:\n",
    "        print(number)\n",
    "        print(\"oops\")\n",
    "        break\n",
    "\n"
   ]
  }
 ],
 "metadata": {
  "kernelspec": {
   "display_name": "Python [conda env:base] *",
   "language": "python",
   "name": "conda-base-py"
  },
  "language_info": {
   "codemirror_mode": {
    "name": "ipython",
    "version": 3
   },
   "file_extension": ".py",
   "mimetype": "text/x-python",
   "name": "python",
   "nbconvert_exporter": "python",
   "pygments_lexer": "ipython3",
   "version": "3.13.5"
  }
 },
 "nbformat": 4,
 "nbformat_minor": 5
}
